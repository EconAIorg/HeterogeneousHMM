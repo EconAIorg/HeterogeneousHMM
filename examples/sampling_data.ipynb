{
 "cells": [
  {
   "cell_type": "markdown",
   "metadata": {},
   "source": [
    "# How to sample data from a model?"
   ]
  },
  {
   "cell_type": "markdown",
   "metadata": {},
   "source": [
    "One of the things that we can do with each of the three implementations of the HMM of this library (Gaussian, Discrete and Heterogeneous) is to sample data from a model.\n",
    "\n",
    "To do so, the function *\"def sample(self, n_sequences=1, n_samples=1)\"* from the *\"_BaseHMM\"* class (which is the parent class for the three implementations) can be used. This function uses the function *\"def _generate_sample_from_state(self, state)\"* which is specific for each of the three HMM available models to sample data from a given model.\n",
    "\n",
    "To illustrate how to use this we are going to use one example in which we are going to define a model with certain parameters (we are not even going to train a model, we will just define the probabilities manually to illustrate how we can generate observations given the emission probabilities, tranisition probabilities, etc that we desire to have).\n",
    "\n",
    "First, we load some packages:"
   ]
  },
  {
   "cell_type": "code",
   "execution_count": 5,
   "metadata": {},
   "outputs": [],
   "source": [
    " # path settings\n",
    "import os\n",
    "import sys\n",
    "module_path = os.path.abspath(os.path.join('..'))\n",
    "if module_path not in sys.path:\n",
    "    sys.path.append(module_path)\n",
    "    \n",
    "import numpy as np\n",
    "from lib.heterogeneoushmm.heterogeneous import HeterogeneousHMM\n",
    "from lib.heterogeneoushmm.utils import normalise"
   ]
  },
  {
   "cell_type": "markdown",
   "metadata": {},
   "source": [
    "As an example, we suppose we want to sample data from a 2 states HeterogeneousHMM with 2 features whose emission probabilities are managed by gaussians distributions and 2 discrete features, being both of them binary. We define these parameters as follows:"
   ]
  },
  {
   "cell_type": "code",
   "execution_count": 6,
   "metadata": {},
   "outputs": [],
   "source": [
    "n_states=3\n",
    "n_g_emissions = 2\n",
    "n_d_emissions = 2\n",
    "n_d_features = [2, 2]"
   ]
  },
  {
   "cell_type": "markdown",
   "metadata": {},
   "source": [
    "We can now define the model with the previous parameters:"
   ]
  },
  {
   "cell_type": "code",
   "execution_count": 3,
   "metadata": {},
   "outputs": [],
   "source": [
    "hhmm = HeterogeneousHMM(\n",
    "    n_states = n_states,\n",
    "    n_g_emissions = n_g_emissions,\n",
    "    n_d_emissions = n_d_emissions,\n",
    "    n_d_features = n_d_features\n",
    ")"
   ]
  },
  {
   "cell_type": "markdown",
   "metadata": {},
   "source": [
    "Now we are going to \"customize\" the model we want to sample from. In this case, we will use random values for the initial probabilities of each of the states, for the transitions matrix, for the means and covars of the gaussians features and for the emission probabilities of the discrete feature. Anycase, likewise we use a random initialization here, you can just set these parameters to yours desired values."
   ]
  },
  {
   "cell_type": "code",
   "execution_count": 7,
   "metadata": {},
   "outputs": [],
   "source": [
    "covariance_type = \"diagonal\"\n",
    "mincv = 0.1\n",
    "\n",
    "prng = np.random.RandomState(10)\n",
    "pi = prng.rand(n_states)\n",
    "pi = pi / pi.sum()\n",
    "A = prng.rand(n_states, n_states)\n",
    "A /= np.tile(A.sum(axis=1)[:, np.newaxis], (1, n_states))\n",
    "B = np.asarray(\n",
    "    [\n",
    "        np.random.random((n_states, n_d_features[i]))\n",
    "        for i in range(n_d_emissions)\n",
    "    ]\n",
    ")\n",
    "for i in range(n_d_emissions):\n",
    "    normalise(B[i], axis=1)\n",
    "means = prng.randint(-20, 20, (n_states, n_g_emissions))\n",
    "covars = (mincv + mincv * prng.random_sample((n_states, n_g_emissions))) ** 2"
   ]
  },
  {
   "cell_type": "markdown",
   "metadata": {},
   "source": [
    "Now that we have already set the values (random for these example) that we want our model to have, we have to set the HeterogeneousHMM model's parameters to those values:"
   ]
  },
  {
   "cell_type": "code",
   "execution_count": 8,
   "metadata": {},
   "outputs": [],
   "source": [
    "hhmm.pi = pi\n",
    "hhmm.A = A\n",
    "hhmm.B = B\n",
    "# Make sure the means are far apart so posteriors.argmax()\n",
    "# n_emissionscks the actual component used to generate the observations.\n",
    "hhmm.means = 20 * means\n",
    "hhmm.covars = np.maximum(covars, 0.1)"
   ]
  },
  {
   "cell_type": "markdown",
   "metadata": {},
   "source": [
    "Now we already have the model with the desired parameters, to generate some sequences from that model we just have to do:"
   ]
  },
  {
   "cell_type": "code",
   "execution_count": 9,
   "metadata": {},
   "outputs": [],
   "source": [
    "n_sequences=5\n",
    "n_samples=1000 \n",
    "X, state_sequences = hhmm.sample(n_sequences=n_sequences, n_samples=n_samples, return_states=True)"
   ]
  },
  {
   "cell_type": "code",
   "execution_count": 10,
   "metadata": {},
   "outputs": [
    {
     "data": {
      "text/plain": [
       "(1000, 4)"
      ]
     },
     "execution_count": 10,
     "metadata": {},
     "output_type": "execute_result"
    }
   ],
   "source": [
    "np.shape(X[0])"
   ]
  },
  {
   "cell_type": "markdown",
   "metadata": {},
   "source": [
    "The function \"sample\" returns:\n",
    "\n",
    "\n",
    "- A list containing the generated n_sequences (5 in our case that have been saved in \"X\", that is a list of 5 elements each of then has dimensions 1000x4 [n_samples x number of features])\n",
    "- A list containing the state sequences that generated each sample sequence."
   ]
  },
  {
   "cell_type": "markdown",
   "metadata": {},
   "source": [
    "**NOTE**: in this case we set the parameters to random values but they should obviously set to the values you want to use for sampling. For example, in your model has 3 states and you have 2 discrete features, being both of them binary, you could set the emission probability matrix of these discrete features to the values you desire doing:"
   ]
  },
  {
   "cell_type": "code",
   "execution_count": 11,
   "metadata": {},
   "outputs": [],
   "source": [
    "hhmm.B = [np.array([[0.2, 0.8], [0.2, 0.8], [0.8, 0.2]]),\n",
    "          np.array([[0.8, 0.2], [0.8, 0.2], [0.2, 0.8]])]"
   ]
  },
  {
   "cell_type": "markdown",
   "metadata": {},
   "source": [
    "Other option is to used a pre-trainned model to generate data, to do so, once you have a trainned model (Gaussian, Discrete or Heterogeneous) it will be enough to do:\"X, state_sequences = hhmm.sample(n_sequences=n_sequences, n_samples=n_samples)\" to generate new samples"
   ]
  }
 ],
 "metadata": {
  "interpreter": {
   "hash": "0454846dbfa5a47d10c573f7ef777d050c199eb7d77b70193b3f89f87fa4ef15"
  },
  "kernelspec": {
   "display_name": "Python 3.7.11 64-bit ('hmm_env': conda)",
   "name": "python3"
  },
  "language_info": {
   "codemirror_mode": {
    "name": "ipython",
    "version": 3
   },
   "file_extension": ".py",
   "mimetype": "text/x-python",
   "name": "python",
   "nbconvert_exporter": "python",
   "pygments_lexer": "ipython3",
   "version": "3.7.11"
  }
 },
 "nbformat": 4,
 "nbformat_minor": 2
}
