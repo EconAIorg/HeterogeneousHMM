{
 "cells": [
  {
   "cell_type": "markdown",
   "metadata": {},
   "source": [
    "# Model Order Selection for Hidden Markov Models"
   ]
  },
  {
   "cell_type": "markdown",
   "metadata": {},
   "source": [
    "https://hal.archives-ouvertes.fr/hal-00706781/document\n",
    "\n",
    "The problem of estimating the number of hidden states in a hidden Markov model is considered. The most common approach for model order selection involves selecting a model order that minimises one or more information criteria evaluated over a range of model orders. Commonly used information criteria include Akaike Information Criterion (AIC) and the Bayesian Information Criterion (BIC) and many others. We implemented these two. \n",
    "\n",
    "The Akaike Information Criterion for HMMs can be defined as $AIC = −2ln(V) + 2k$, where $k$ is the number of free parameters, $2k$ is the penalty, $V$ is the likelihood. The best model is the one which has the weakest AIC.\n",
    "\n",
    "The Bayesian Information Criterion $BIC = −2ln(V) + kln(n)$, where $k$ is the number of free parameters, $n$ is the number of data and $kln(n)$ is the\n",
    "penalty term.  The best model is the one which gets the minimum value of BIC.\n",
    "\n",
    "These to criteria are often used together, because they both penalise models with too many parameters, however BIC penalises model complexity more heavily. "
   ]
  },
  {
   "cell_type": "code",
   "execution_count": null,
   "metadata": {
    "ExecuteTime": {
     "end_time": "2020-03-10T12:21:51.305021Z",
     "start_time": "2020-03-10T12:21:50.330280Z"
    }
   },
   "outputs": [],
   "source": [
    " # path settings\n",
    "import os\n",
    "import sys\n",
    "module_path = os.path.abspath(os.path.join('..'))\n",
    "if module_path not in sys.path:\n",
    "    sys.path.append(module_path)\n",
    "\n",
    "import numpy as np\n",
    "\n",
    "from lib.heterogeneoushmm.gaussian import GaussianHMM\n",
    "import lib.heterogeneoushmm.utils as hu\n",
    "\n",
    "%load_ext autoreload\n",
    "%autoreload 2"
   ]
  },
  {
   "cell_type": "markdown",
   "metadata": {},
   "source": [
    "# Gaussian HMM"
   ]
  },
  {
   "cell_type": "markdown",
   "metadata": {},
   "source": [
    "Source of example: https://hmmlearn.readthedocs.io/en/0.2.0/auto_examples/plot_hmm_sampling.html#sphx-glr-auto-examples-plot-hmm-sampling-py. \n",
    "\n",
    "Consider an HMM with Gaussian emissions, 4 hidden states with specified mean and covariance. The following figure shows shows some samples drawn from the model with the corresponding transitions. \n",
    "\n",
    "<img src='img/gauss_hmm_samples.png' width='600'/>\n",
    "\n",
    "We will use the generated samples to train GHMMs with different number of states and compute the model order selection criteria. "
   ]
  },
  {
   "cell_type": "code",
   "execution_count": 3,
   "metadata": {
    "ExecuteTime": {
     "end_time": "2020-03-10T12:21:59.632169Z",
     "start_time": "2020-03-10T12:21:59.599123Z"
    }
   },
   "outputs": [
    {
     "name": "stdout",
     "output_type": "stream",
     "text": [
      "Priors\n",
      "+--------------+--------------+--------------+--------------+\n",
      "|     S_0      |     S_1      |     S_2      |     S_3      |\n",
      "+--------------+--------------+--------------+--------------+\n",
      "| P(S_0)=0.600 | P(S_1)=0.300 | P(S_2)=0.100 | P(S_3)=0.000 |\n",
      "+--------------+--------------+--------------+--------------+\n",
      "Transitions\n",
      "+-----+------------------+------------------+------------------+------------------+\n",
      "|  _  |       S_0        |       S_1        |       S_2        |       S_3        |\n",
      "+-----+------------------+------------------+------------------+------------------+\n",
      "| S_0 | P(S_0|S_0)=0.700 | P(S_1|S_0)=0.200 | P(S_2|S_0)=0.000 | P(S_3|S_0)=0.100 |\n",
      "| S_1 | P(S_0|S_1)=0.300 | P(S_1|S_1)=0.500 | P(S_2|S_1)=0.200 | P(S_3|S_1)=0.000 |\n",
      "| S_2 | P(S_0|S_2)=0.000 | P(S_1|S_2)=0.300 | P(S_2|S_2)=0.500 | P(S_3|S_2)=0.200 |\n",
      "| S_3 | P(S_0|S_3)=0.200 | P(S_1|S_3)=0.000 | P(S_2|S_3)=0.200 | P(S_3|S_3)=0.600 |\n",
      "+-----+------------------+------------------+------------------+------------------+\n",
      "Means\n",
      "+-----+--------+--------+\n",
      "|  _  |  E_0   |  E_1   |\n",
      "+-----+--------+--------+\n",
      "| S_0 | 0.000  | 0.000  |\n",
      "| S_1 | 0.000  | 11.000 |\n",
      "| S_2 | 9.000  | 10.000 |\n",
      "| S_3 | 11.000 | -1.000 |\n",
      "+-----+--------+--------+\n",
      "Covariances\n",
      "S_0\n",
      "+-----+-------+-------+\n",
      "|  _  |  E_0  |  E_1  |\n",
      "+-----+-------+-------+\n",
      "| E_0 | 0.500 | 0.000 |\n",
      "| E_1 | 0.000 | 0.500 |\n",
      "+-----+-------+-------+\n",
      "S_1\n",
      "+-----+-------+-------+\n",
      "|  _  |  E_0  |  E_1  |\n",
      "+-----+-------+-------+\n",
      "| E_0 | 0.500 | 0.000 |\n",
      "| E_1 | 0.000 | 0.500 |\n",
      "+-----+-------+-------+\n",
      "S_2\n",
      "+-----+-------+-------+\n",
      "|  _  |  E_0  |  E_1  |\n",
      "+-----+-------+-------+\n",
      "| E_0 | 0.500 | 0.000 |\n",
      "| E_1 | 0.000 | 0.500 |\n",
      "+-----+-------+-------+\n",
      "S_3\n",
      "+-----+-------+-------+\n",
      "|  _  |  E_0  |  E_1  |\n",
      "+-----+-------+-------+\n",
      "| E_0 | 0.500 | 0.000 |\n",
      "| E_1 | 0.000 | 0.500 |\n",
      "+-----+-------+-------+\n"
     ]
    }
   ],
   "source": [
    "# instantiate a MultinomialHMM object\n",
    "my_hmm = GaussianHMM(\n",
    "    n_states=4,\n",
    "    n_emissions=2,\n",
    "    covariance_type='diagonal'\n",
    ")\n",
    "\n",
    "# we set model parameters according to the example\n",
    "# the initial state probabilities, array of shape (n_states, )\n",
    "my_hmm.pi = np.array([0.6, 0.3, 0.1, 0.0])\n",
    "# the state transition probabilities, array of shape (n_states, n_states)\n",
    "my_hmm.A = np.array(\n",
    "    [\n",
    "        [0.7, 0.2, 0.0, 0.1],\n",
    "        [0.3, 0.5, 0.2, 0.0],\n",
    "        [0.0, 0.3, 0.5, 0.2],\n",
    "        [0.2, 0.0, 0.2, 0.6],\n",
    "    ]\n",
    ")\n",
    "# the means of each component\n",
    "my_hmm.means = np.array([[0.0, 0.0], [0.0, 11.0], [9.0, 10.0], [11.0, -1.0]])\n",
    "\n",
    "# the covariance of each component - shape depends `covariance_type`\n",
    "#             (n_states, )                          if 'spherical',\n",
    "#             (n_states, n_emissions)               if 'diagonal',\n",
    "#             (n_states, n_emissions, n_emissions)  if 'full'\n",
    "#             (n_emissions, n_emissions)            if 'tied'\n",
    "my_hmm.covars = 0.5 * np.ones((4, 2))  # diagonal covariance matrix\n",
    "\n",
    "hu.pretty_print_hmm(my_hmm, hmm_type='Gaussian')"
   ]
  },
  {
   "cell_type": "code",
   "execution_count": 17,
   "metadata": {
    "ExecuteTime": {
     "end_time": "2020-03-10T12:22:34.297900Z",
     "start_time": "2020-03-10T12:21:59.634262Z"
    }
   },
   "outputs": [
    {
     "name": "stdout",
     "output_type": "stream",
     "text": [
      "1 states: logL = -25403.611, AIC = 50819.221, BIC = 58253.774\n",
      "2 states: logL = -19822.878, AIC = 39673.757, BIC = 50613.679\n",
      "3 states: logL = -15923.271, AIC = 31894.541, BIC = 45054.533\n",
      "4 states: logL = -13019.860, AIC = 26111.720, BIC = 40932.825\n",
      "5 states: logL = -13174.411, AIC = 26448.823, BIC = 42607.190\n",
      "6 states: logL = -13162.668, AIC = 26457.337, BIC = 43737.542\n",
      "7 states: logL = -13233.866, AIC = 26635.732, BIC = 44882.207\n",
      "8 states: logL = -13355.857, AIC = 26919.714, BIC = 46013.803\n",
      "9 states: logL = -13469.619, AIC = 27191.239, BIC = 47038.826\n",
      "10 states: logL = -13530.022, AIC = 27360.044, BIC = 47884.244\n"
     ]
    }
   ],
   "source": [
    "# generate observation sequences of different lengths\n",
    "lengths = np.random.randint(25, 150, size=50)\n",
    "X = [\n",
    "    my_hmm.sample(n_sequences=1, n_samples=n_samples)[0] for n_samples in lengths\n",
    "]\n",
    "\n",
    "# train models with different number of states and evaluate the model order selection criteria to decide which match best\n",
    "n_states = [1, 2, 3, 4, 5, 6, 7, 8, 9, 10]\n",
    "n_samples = sum(lengths)\n",
    "models = []\n",
    "criteria = {'AIC': np.zeros_like(n_states), 'BIC': np.zeros_like(n_states)}\n",
    "for idx, ns in enumerate(n_states):\n",
    "    # initialise model\n",
    "    temp_ghmm = GaussianHMM(\n",
    "        # number of hidden states\n",
    "        n_states=ns,\n",
    "        # number of distinct emissions\n",
    "        n_emissions=2,\n",
    "        # can be 'diagonal', 'full', 'spherical', 'tied'\n",
    "        covariance_type='diagonal',\n",
    "        verbose=False\n",
    "    )\n",
    "\n",
    "    # train the model to estimate the parameters\n",
    "    temp_ghmm, log_likelihood = temp_ghmm.train(\n",
    "        X,\n",
    "        n_init=1,     # number of initialisations to perform\n",
    "        n_iter=100,   # maximum number of iterations to run\n",
    "        conv_thresh=0.001,  # what percentage of change in the log-likelihood between iterations is considered convergence\n",
    "        conv_iter=5,  # for how many iterations does it have to hold\n",
    "        # whether to plot the evolution of the log-likelihood over the iterations\n",
    "        plot_log_likelihood=False,\n",
    "        # set to True if want to train until maximum number of iterations is reached\n",
    "        ignore_conv_crit=False,\n",
    "        no_init=False,  # set to True if the model parameters shouldn't be re-initialised befor training; in this case they have to be set manually first, otherwise errors occur\n",
    "    )\n",
    "\n",
    "    # compute the number of free parameters of the model\n",
    "    dof = hu.get_n_fit_scalars(temp_ghmm)\n",
    "\n",
    "    # compute the model order selection criterias\n",
    "    aic = hu.aic_hmm(log_likelihood, dof)\n",
    "    criteria['AIC'][idx] = aic\n",
    "\n",
    "    bic = hu.bic_hmm(log_likelihood, n_samples, dof)\n",
    "    criteria['BIC'][idx] = bic\n",
    "    \n",
    "    print('{} states: logL = {:.3f}, AIC = {:.3f}, BIC = {:.3f}'.format(ns, log_likelihood, aic, bic))"
   ]
  },
  {
   "cell_type": "code",
   "execution_count": 20,
   "metadata": {},
   "outputs": [
    {
     "data": {
      "image/png": "[encoded data removed]",
      "text/plain": [
       "<Figure size 504x288 with 1 Axes>"
      ]
     },
     "metadata": {},
     "output_type": "display_data"
    }
   ],
   "source": [
    "# plot the model order selection criteria in function of the number of states\n",
    "hu.plot_model_selection(n_states, criteria)"
   ]
  },
  {
   "cell_type": "markdown",
   "metadata": {},
   "source": [
    "If we look at the plot, we can see that the best AIC and BIC scores where reached when the number of states in the model was four, just like the generator model. "
   ]
  }
 ],
 "metadata": {
  "interpreter": {
   "hash": "0454846dbfa5a47d10c573f7ef777d050c199eb7d77b70193b3f89f87fa4ef15"
  },
  "kernelspec": {
   "display_name": "Python 3.7.11 64-bit ('hmm_env': conda)",
   "name": "python3"
  },
  "language_info": {
   "codemirror_mode": {
    "name": "ipython",
    "version": 3
   },
   "file_extension": ".py",
   "mimetype": "text/x-python",
   "name": "python",
   "nbconvert_exporter": "python",
   "pygments_lexer": "ipython3",
   "version": "3.7.11"
  },
  "latex_envs": {
   "LaTeX_envs_menu_present": true,
   "autoclose": false,
   "autocomplete": true,
   "bibliofile": "biblio.bib",
   "cite_by": "apalike",
   "current_citInitial": 1,
   "eqLabelWithNumbers": true,
   "eqNumInitial": 1,
   "hotkeys": {
    "equation": "Ctrl-E",
    "itemize": "Ctrl-I"
   },
   "labels_anchors": false,
   "latex_user_defs": false,
   "report_style_numbering": false,
   "user_envs_cfg": false
  },
  "toc": {
   "base_numbering": 1,
   "nav_menu": {},
   "number_sections": true,
   "sideBar": true,
   "skip_h1_title": false,
   "title_cell": "Table of Contents",
   "title_sidebar": "Contents",
   "toc_cell": false,
   "toc_position": {},
   "toc_section_display": true,
   "toc_window_display": true
  },
  "varInspector": {
   "cols": {
    "lenName": 16,
    "lenType": 16,
    "lenVar": 40
   },
   "kernels_config": {
    "python": {
     "delete_cmd_postfix": "",
     "delete_cmd_prefix": "del ",
     "library": "var_list.py",
     "varRefreshCmd": "print(var_dic_list())"
    },
    "r": {
     "delete_cmd_postfix": ") ",
     "delete_cmd_prefix": "rm(",
     "library": "var_list.r",
     "varRefreshCmd": "cat(var_dic_list()) "
    }
   },
   "position": {
    "height": "382.535px",
    "left": "896.747px",
    "right": "20px",
    "top": "87.9653px",
    "width": "557.066px"
   },
   "types_to_exclude": [
    "module",
    "function",
    "builtin_function_or_method",
    "instance",
    "_Feature"
   ],
   "window_display": false
  }
 },
 "nbformat": 4,
 "nbformat_minor": 4
}
